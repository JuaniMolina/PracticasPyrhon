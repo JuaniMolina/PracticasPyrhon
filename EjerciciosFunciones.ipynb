{
  "nbformat": 4,
  "nbformat_minor": 0,
  "metadata": {
    "colab": {
      "provenance": [],
      "collapsed_sections": [],
      "authorship_tag": "ABX9TyOaYKwnjOD/bR1E7LMCHCf6",
      "include_colab_link": true
    },
    "kernelspec": {
      "name": "python3",
      "display_name": "Python 3"
    },
    "language_info": {
      "name": "python"
    }
  },
  "cells": [
    {
      "cell_type": "markdown",
      "metadata": {
        "id": "view-in-github",
        "colab_type": "text"
      },
      "source": [
        "<a href=\"https://colab.research.google.com/github/JuaniMolina/PracticasPython/blob/main/EjerciciosFunciones.ipynb\" target=\"_parent\"><img src=\"https://colab.research.google.com/assets/colab-badge.svg\" alt=\"Open In Colab\"/></a>"
      ]
    },
    {
      "cell_type": "markdown",
      "source": [
        "Ejercicios Funciones Python\n",
        "https://aprendeconalf.es/docencia/python/ejercicios/funciones/\n"
      ],
      "metadata": {
        "id": "tI_n8WxwNKzK"
      }
    },
    {
      "cell_type": "markdown",
      "source": [
        "1) Escribir una función que muestre por pantalla el saludo ¡Hola amiga! cada vez que se la invoque."
      ],
      "metadata": {
        "id": "dXKNIcqNCt0w"
      }
    },
    {
      "cell_type": "code",
      "execution_count": null,
      "metadata": {
        "colab": {
          "base_uri": "https://localhost:8080/"
        },
        "id": "eVU8YCGwTXRO",
        "outputId": "fa012a39-02e6-401a-dddb-512b96fd3129"
      },
      "outputs": [
        {
          "output_type": "stream",
          "name": "stdout",
          "text": [
            "Hola amiga!\n"
          ]
        }
      ],
      "source": [
        "def saludo():\n",
        "  print(\"Hola amiga!\")\n",
        "\n",
        "saludo()"
      ]
    },
    {
      "cell_type": "markdown",
      "source": [
        "2) Escribir una función a la que se le pase una cadena <nombre> y muestre por pantalla el saludo ¡hola <nombre>!."
      ],
      "metadata": {
        "id": "VnE3FKXuCtoR"
      }
    },
    {
      "cell_type": "code",
      "source": [
        "def saludo_nombre(nombre):\n",
        "  print(f\"Hola {nombre}!\")\n",
        "\n",
        "saludo_nombre(\"Juan\")"
      ],
      "metadata": {
        "colab": {
          "base_uri": "https://localhost:8080/"
        },
        "id": "rqOMu1ZMTmRd",
        "outputId": "d9403f1e-9840-4b06-dba9-d116483dc764"
      },
      "execution_count": null,
      "outputs": [
        {
          "output_type": "stream",
          "name": "stdout",
          "text": [
            "Hola Juan\n"
          ]
        }
      ]
    },
    {
      "cell_type": "markdown",
      "source": [
        "3) Escribir una función que reciba un número entero positivo y devuelva su factorial."
      ],
      "metadata": {
        "id": "qfY_66J_Clzb"
      }
    },
    {
      "cell_type": "code",
      "source": [
        "def factorial(n):\n",
        "  total = 1\n",
        "  for i in range(n):\n",
        "    total = total * (i+1)\n",
        "  print(total)\n",
        "\n",
        "factorial(5)"
      ],
      "metadata": {
        "colab": {
          "base_uri": "https://localhost:8080/"
        },
        "id": "AUHOExt5T9uU",
        "outputId": "e01bacd2-c93f-4ec3-9601-8704d6617f52"
      },
      "execution_count": null,
      "outputs": [
        {
          "output_type": "stream",
          "name": "stdout",
          "text": [
            "120\n"
          ]
        }
      ]
    },
    {
      "cell_type": "markdown",
      "source": [
        "4) Escribir una función que calcule el total de una factura tras aplicarle el IVA. La función debe recibir la cantidad sin IVA y el porcentaje de IVA a aplicar, y devolver el total de la factura. Si se invoca la función sin pasarle el porcentaje de IVA, deberá aplicar un 21%."
      ],
      "metadata": {
        "id": "XqlInxG7DBF4"
      }
    },
    {
      "cell_type": "code",
      "source": [
        "def iva (importe, iva = 21):\n",
        "  total = importe + (importe * iva / 100)\n",
        "  return total\n",
        "\n",
        "print(iva(100, 10))"
      ],
      "metadata": {
        "id": "-Uw8y0xxDA97"
      },
      "execution_count": null,
      "outputs": []
    },
    {
      "cell_type": "markdown",
      "source": [
        "5) Escribir una función que calcule el área de un círculo y otra que calcule el volumen de un cilindro usando la primera función."
      ],
      "metadata": {
        "id": "H5PJpmtNDEVJ"
      }
    },
    {
      "cell_type": "code",
      "source": [
        "def area_circulo(radio):\n",
        "  area = 3.1415 * radio**2\n",
        "  return area\n",
        "\n",
        "def volumen_cilindro (radio, altura):\n",
        "  volumen = altura * area_circulo(radio)\n",
        "  return volumen\n",
        "\n",
        "print(area_circulo(5))\n",
        "print(volumen_cilindro(5, 10))"
      ],
      "metadata": {
        "id": "MYGjbZ00DEOI"
      },
      "execution_count": null,
      "outputs": []
    },
    {
      "cell_type": "markdown",
      "source": [
        "6) Escribir una función que reciba una muestra de números en una lista y devuelva su media."
      ],
      "metadata": {
        "id": "ZrV0KnXgDHPh"
      }
    },
    {
      "cell_type": "code",
      "source": [
        "lista = [1, 3, 5, 7, 9]\n",
        "\n",
        "def media_lista(lista):\n",
        "  for indice, valor in enumerate(lista):\n",
        "    total = sum(lista) / len(lista)\n",
        "  return total\n",
        "\n",
        "media_lista(lista)\n"
      ],
      "metadata": {
        "colab": {
          "base_uri": "https://localhost:8080/"
        },
        "id": "3IkWwp89DG0h",
        "outputId": "0b908439-6527-4307-d695-bd0700c18cdf"
      },
      "execution_count": null,
      "outputs": [
        {
          "output_type": "execute_result",
          "data": {
            "text/plain": [
              "5.0"
            ]
          },
          "metadata": {},
          "execution_count": 26
        }
      ]
    },
    {
      "cell_type": "markdown",
      "source": [
        "7) Escribir una función que reciba una muestra de números en una lista y devuelva otra lista con sus cuadrados."
      ],
      "metadata": {
        "id": "tV0bb3tLDLhg"
      }
    },
    {
      "cell_type": "code",
      "source": [
        "lista = [1, 3, 5, 7, 9]\n",
        "\n",
        "def cuadrado_listas(lista):\n",
        "  for indice, valor in enumerate(lista):\n",
        "    lista[indice] = valor**2\n",
        "\n",
        "cuadrado_listas(lista)\n",
        "print(lista)"
      ],
      "metadata": {
        "id": "QDJMt73bDKO4"
      },
      "execution_count": null,
      "outputs": []
    },
    {
      "cell_type": "markdown",
      "source": [
        "8) Escribir una función que reciba una muestra de números en una lista y devuelva un diccionario con su media, varianza y desviación típica."
      ],
      "metadata": {
        "id": "AhvOGxVWDQy5"
      }
    },
    {
      "cell_type": "code",
      "source": [
        "import math\n",
        "resultado = {}\n",
        "lista_numeros = [17, 15, 23, 7, 9, 13]\n",
        "\n",
        "def media(lista):\n",
        "  suma = 0\n",
        "  for i in lista:\n",
        "    suma += i\n",
        "    med = suma / len(lista)\n",
        "  return med\n",
        "\n",
        "def varianza(lista, media):\n",
        "  suma = 0\n",
        "  for i in lista:\n",
        "    suma += (i-media)**2\n",
        "  var = round(suma / (len(lista) - 1), 2)\n",
        "  return var\n",
        "\n",
        "def desvio (varianza):\n",
        "  desv = round(math.sqrt(varianza), 2)\n",
        "  return desv\n",
        "\n",
        "\n",
        "def Prob (lista):\n",
        "  dict_lista = {}\n",
        "  res = media(lista)\n",
        "  var = varianza(lista, res)\n",
        "  des = desvio(var)\n",
        "  dict_lista['Media'] = res\n",
        "  dict_lista['Varianza']= var\n",
        "  dict_lista['desvio'] = des\n",
        "\n",
        "  return dict_lista\n",
        "\n",
        "resultado = Prob(lista_numeros)\n",
        "\n",
        "print(resultado)"
      ],
      "metadata": {
        "id": "InnTPbX4DQYa",
        "colab": {
          "base_uri": "https://localhost:8080/"
        },
        "outputId": "2bda641d-7473-42e5-d11a-0494078d819d"
      },
      "execution_count": null,
      "outputs": [
        {
          "output_type": "stream",
          "name": "stdout",
          "text": [
            "{'Media': 14.0, 'Varianza': 33.2, 'desvio': 5.76}\n"
          ]
        }
      ]
    },
    {
      "cell_type": "markdown",
      "source": [
        "9) Escribir una función que calcule el máximo común divisor de dos números y otra que calcule el mínimo común múltiplo."
      ],
      "metadata": {
        "id": "SLOC80gkDUmy"
      }
    },
    {
      "cell_type": "code",
      "source": [
        "def MCD(numero_1, numero_2):    \n",
        "  divisores_1 = []\n",
        "  divisores_2 = []\n",
        "  divisores = []\n",
        "  def mcd(numero):\n",
        "    divisores = []\n",
        "    for i in range(numero):\n",
        "      if numero % (i+1) == 0:\n",
        "        divisores.append(i+1)\n",
        "    return divisores\n",
        "\n",
        "  divisores_1 = mcd(numero_1)\n",
        "  divisores_2 = mcd(numero_2)\n",
        "  for i in divisores_1:\n",
        "    for j in divisores_2:\n",
        "      if i == j and i not in divisores:\n",
        "        divisores.append(i)\n",
        "  divisores.sort(reverse=True)\n",
        "  return divisores[0]\n",
        "\n",
        "numero_1 = int(input('ingrese un numero: '))\n",
        "numero_2 = int(input('ingrese otro numero: '))\n",
        "\n",
        "mcd = MCD(numero_1, numero_2)\n",
        "print(f'el mcd entre {numero_1} y {numero_2} es {mcd}')\n",
        "\n",
        "\n"
      ],
      "metadata": {
        "id": "a5ZI1ahsDUNk",
        "colab": {
          "base_uri": "https://localhost:8080/"
        },
        "outputId": "2f672f30-4721-41e6-f8b9-f14f45f33a6b"
      },
      "execution_count": 10,
      "outputs": [
        {
          "output_type": "stream",
          "name": "stdout",
          "text": [
            "ingrese un numero: 25\n",
            "ingrese otro numero: 45\n",
            "el mcd entre 25 y 45 es 5\n"
          ]
        }
      ]
    },
    {
      "cell_type": "markdown",
      "source": [
        "\n",
        "\n",
        "10) Escribir una función que convierta un número decimal en binario y otra que convierta un número binario en decimal."
      ],
      "metadata": {
        "id": "z06t3TknDXcj"
      }
    },
    {
      "cell_type": "code",
      "source": [
        "#Funcion para convertir un numero a binario\n",
        "numero = int(input('Ingrese un numero decimal: '))\n",
        "lista = []\n",
        "def binario (numero):\n",
        "  lista_binario = []\n",
        "  while True:\n",
        "    resto = numero % 2\n",
        "    numero =  numero // 2\n",
        "    lista_binario.append(resto)\n",
        "    if numero == 0:\n",
        "      break\n",
        "  lista_binario = lista_binario[::-1]\n",
        "  return lista_binario\n",
        "\n",
        "lista = binario(numero)\n",
        "\n",
        "print(lista)\n",
        "\n",
        "#Funcion que convierte un numero binario en decimal\n",
        "binario = input('Ingrese un numero en Binario: ')\n",
        "\n",
        "def Binario (binario):\n",
        "  binario = list(str(binario))\n",
        "  suma=0\n",
        "  for i in range(len(binario)):\n",
        "    potencia = (len(binario)-1)-i\n",
        "    suma += 2**potencia*int(binario[i])\n",
        "  return suma\n",
        "res = Binario(binario)\n",
        "print(res)"
      ],
      "metadata": {
        "id": "tkp77vQPDXEy",
        "colab": {
          "base_uri": "https://localhost:8080/"
        },
        "outputId": "437ba296-9e1c-4165-b639-35bcf0e38acb"
      },
      "execution_count": null,
      "outputs": [
        {
          "output_type": "stream",
          "name": "stdout",
          "text": [
            "Ingrese un numero decimal: 10\n",
            "[1, 0, 1, 0]\n",
            "Ingrese un numero en Binario: 1010\n",
            "10\n"
          ]
        }
      ]
    },
    {
      "cell_type": "markdown",
      "source": [
        "11) Escribir un programa que reciba una cadena de caracteres y devuelva un diccionario con cada palabra que contiene y su frecuencia. Escribir otra función que reciba el diccionario generado con la función anterior y devuelva una tupla con la palabra más repetida y su frecuencia."
      ],
      "metadata": {
        "id": "iuQLQE_QDZ-4"
      }
    },
    {
      "cell_type": "code",
      "source": [],
      "metadata": {
        "id": "6V-w2woxDZsr"
      },
      "execution_count": null,
      "outputs": []
    }
  ]
}