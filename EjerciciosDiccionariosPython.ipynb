{
  "nbformat": 4,
  "nbformat_minor": 0,
  "metadata": {
    "colab": {
      "provenance": [],
      "collapsed_sections": [],
      "authorship_tag": "ABX9TyM5/5n8t1aNmue+whg1db8I",
      "include_colab_link": true
    },
    "kernelspec": {
      "name": "python3",
      "display_name": "Python 3"
    },
    "language_info": {
      "name": "python"
    }
  },
  "cells": [
    {
      "cell_type": "markdown",
      "metadata": {
        "id": "view-in-github",
        "colab_type": "text"
      },
      "source": [
        "<a href=\"https://colab.research.google.com/github/JuaniMolina/PracticasPython/blob/main/EjerciciosDiccionariosPython.ipynb\" target=\"_parent\"><img src=\"https://colab.research.google.com/assets/colab-badge.svg\" alt=\"Open In Colab\"/></a>"
      ]
    },
    {
      "cell_type": "markdown",
      "source": [
        "Ejercicios Diccionarios Python\n",
        "https://aprendeconalf.es/docencia/python/ejercicios/diccionarios/"
      ],
      "metadata": {
        "id": "toLG4h3INAqa"
      }
    },
    {
      "cell_type": "markdown",
      "source": [
        "1)Escribir un programa que guarde en una variable el diccionario {'Euro':'€', 'Dollar':'$', 'Yen':'¥'}, pregunte al usuario por una divisa y muestre su símbolo o un mensaje de aviso si la divisa no está en el diccionario."
      ],
      "metadata": {
        "id": "HXyxfoDKmmSB"
      }
    },
    {
      "cell_type": "code",
      "execution_count": null,
      "metadata": {
        "id": "r2GirLO9mg87"
      },
      "outputs": [],
      "source": [
        "divisas = {'Euro':'€', 'Dollar':'$', 'Yen':'¥'}\n",
        "\n",
        "nombre = input(\"Ingrese el nombre de la divisa: \")\n",
        "\n",
        "if nombre == 'Euro':\n",
        "  print(divisas[nombre])\n",
        "elif nombre == 'Dollar':\n",
        "  print(divisas[nombre])\n",
        "elif nombre == 'Yen':\n",
        "  print(divisas[nombre])\n",
        "else:\n",
        "  print(\"La divisa no esta en el diccionario!\")"
      ]
    },
    {
      "cell_type": "markdown",
      "source": [
        "2) Escribir un programa que pregunte al usuario su nombre, edad, dirección y teléfono y lo guarde en un diccionario. Después debe mostrar por pantalla el mensaje <nombre> tiene <edad> años, vive en <dirección> y su número de teléfono es <teléfono>."
      ],
      "metadata": {
        "id": "qyn8olU5NVVw"
      }
    },
    {
      "cell_type": "code",
      "source": [
        "Datos = {} #creo un diccionario vacio\n",
        "Datos['nombre'] = input(\"Ingrese su nombre: \") #asigno un valor a la clave \"NOMBRE\"\n",
        "Datos['edad'] = input(\"Ingrese su edad \") #asigno un valor a la clave \"EDAD\"\n",
        "Datos['direccion'] = input(\"Ingrese su direccion: \") #asigno un valor a la clave \"DIRECCION\"\n",
        "Datos['telefono'] = input(\"Ingrese su telefono: \") #asigno un valor a la clave \"TELEFONO\"\n",
        "\n",
        "print(Datos['nombre'], 'tiene', Datos['edad'], 'vive en', Datos['direccion'], 'y su numero de telefono es', Datos['telefono']) #Muestro los datos en una oracion"
      ],
      "metadata": {
        "id": "5YCdxkkRNVMK"
      },
      "execution_count": null,
      "outputs": []
    },
    {
      "cell_type": "markdown",
      "source": [
        "3) Escribir un programa que guarde en un diccionario los precios de las frutas de la tabla, pregunte al usuario por una fruta, un número de kilos y muestre por pantalla el precio de ese número de kilos de fruta. Si la fruta no está en el diccionario debe mostrar un mensaje informando de ello."
      ],
      "metadata": {
        "id": "ZoSLG5GpbthM"
      }
    },
    {
      "cell_type": "code",
      "source": [
        "frutas = {'platano':1.35 ,'manzana':0.80 ,'pera':0.85 ,'naranja':0.70  } #creo un diccionario con nombre de frutas y su precio por kilogramo\n",
        "\n",
        "nombre_fruta = input(\"Que fruta quiere llevar?: \") #pido un ingreso de la fruta a llevar\n",
        "\n",
        "while nombre_fruta not in frutas: #Compruebo que la fruta este dentro del dicc. Si no se escuentra pido que ingrese otra fruta.\n",
        "  print(\"La fruta no esta disponible\")\n",
        "  nombre_fruta = input(\"Que fruta quiere llevar?: \")\n",
        "  \n",
        "kilos = int(input(\"Cuantos kilos quiere llevar?: \")) #ingreso la cantidad de kilos a llevar\n",
        "precio = kilos * frutas[nombre_fruta] #calculo el precio\n",
        "\n",
        "print('El precio de la', nombre_fruta, 'por', kilos, 'kilos es', precio, 'pesos') #muestro en una oracion el resultado"
      ],
      "metadata": {
        "id": "FqccAYrLbtUz"
      },
      "execution_count": null,
      "outputs": []
    },
    {
      "cell_type": "markdown",
      "source": [
        "4) Escribir un programa que pregunte una fecha en formato dd/mm/aaaa y muestre por pantalla la misma fecha en formato dd de <mes> de aaaa donde <mes> es el nombre del mes."
      ],
      "metadata": {
        "id": "xEfcG74ufX_B"
      }
    },
    {
      "cell_type": "code",
      "source": [
        "meses = {1:'Enero', 2:'Febrero', 3:'Marzo', 4:'Abril', 5:'Mayo', 6:'Junio', 7:'Julio', 8:'Agosto', 9:'Septiembre', 10:'Octubre', 11:'Noviembre', 12:'Diciembre'}\n",
        "#Creo un diccionario de los meses del año.\n",
        "\n",
        "print(\"Ingrese una fecha en dd/mm/aaa, en formato numerico\")#Imprimo pauta para ingresar la fecha\n",
        "dia = input(\"ingrese el dia: \") #almaceno el dia\n",
        "mes = int(input(\"Ingrese el mes: \")) #almaceno el mes y lo casteo a int.\n",
        "anio = input(\"Ingrese el año: \") #almaceno el año\n",
        "\n",
        "print(dia,'de', meses[mes], 'de', anio) #Imprimo la fecha en otro formato y traigo el mes en palabra de mi diccionario de meses."
      ],
      "metadata": {
        "id": "YBgwVttkfXue"
      },
      "execution_count": null,
      "outputs": []
    },
    {
      "cell_type": "markdown",
      "source": [
        "5) Escribir un programa que almacene el diccionario con los créditos de las asignaturas de un curso {'Matemáticas': 6, 'Física': 4, 'Química': 5} y después muestre por pantalla los créditos de cada asignatura en el formato <asignatura> tiene <créditos> créditos, donde <asignatura> es cada una de las asignaturas del curso, y <créditos> son sus créditos. Al final debe mostrar también el número total de créditos del curso."
      ],
      "metadata": {
        "id": "6b4wso-RhwE5"
      }
    },
    {
      "cell_type": "code",
      "source": [
        "creditos_asignaturas = {'Matematicas': 6, 'Fisica': 4, 'Quimica': 5} #Creo un diccionario con materias y sus creditos.\n",
        "total = 0\n",
        "for b in creditos_asignaturas:\n",
        "  print(b, 'tiene', creditos_asignaturas[b], 'creditos')\n",
        "  total += creditos_asignaturas[b]\n",
        "print(\"El total de creditos del curso es de\", total)"
      ],
      "metadata": {
        "id": "Y_aCF6bahv6W"
      },
      "execution_count": null,
      "outputs": []
    },
    {
      "cell_type": "markdown",
      "source": [
        "6) Escribir un programa que cree un diccionario vacío y lo vaya llenado con información sobre una persona (por ejemplo nombre, edad, sexo, teléfono, correo electrónico, etc.) que se le pida al usuario. Cada vez que se añada un nuevo dato debe imprimirse el contenido del diccionario."
      ],
      "metadata": {
        "id": "fj43DSuykBNL"
      }
    },
    {
      "cell_type": "code",
      "source": [],
      "metadata": {
        "id": "vyIi6eSYkBDs"
      },
      "execution_count": null,
      "outputs": []
    },
    {
      "cell_type": "markdown",
      "source": [
        "7) Escribir un programa que cree un diccionario simulando una cesta de la compra. El programa debe preguntar el artículo y su precio y añadir el par al diccionario, hasta que el usuario decida terminar. Después se debe mostrar por pantalla la lista de la compra y el coste total, con el siguiente formato"
      ],
      "metadata": {
        "id": "h8PkhnAmoGTa"
      }
    },
    {
      "cell_type": "code",
      "source": [
        "compra = {}\n",
        "\n",
        "print(\"Elija que productos quiere llevar: \")\n",
        "while True:\n",
        "  opcion = input(\"Desea agregar un articulo? s/n: \").lower()\n",
        "  if opcion == 'n':\n",
        "    break\n",
        "  else:\n",
        "    nombre_art = input(\"Ingrese el nombre del articulo: \")\n",
        "    precio = float(input(\"Ingrese el precio del articulo: \"))\n",
        "    compra[nombre_art] = precio\n",
        "    \n",
        "total = 0\n",
        "for i in compra:\n",
        "  print(i,' ', compra[i])\n",
        "  total += compra[i]\n",
        "\n",
        "print(\"El costo total de la compra es de\", total)"
      ],
      "metadata": {
        "id": "CUHpP4zooGJ9"
      },
      "execution_count": null,
      "outputs": []
    },
    {
      "cell_type": "markdown",
      "source": [
        "8)Escribir un programa que cree un diccionario de traducción español-inglés. El usuario introducirá las palabras en español e inglés separadas por dos puntos, y cada par <palabra>:<traducción> separados por comas. El programa debe crear un diccionario con las palabras y sus traducciones. Después pedirá una frase en español y utilizará el diccionario para traducirla palabra a palabra. Si una palabra no está en el diccionario debe dejarla sin traducir."
      ],
      "metadata": {
        "id": "t5VLd9Sqtv6J"
      }
    },
    {
      "cell_type": "code",
      "source": [],
      "metadata": {
        "id": "QS6dvwOLtvxi"
      },
      "execution_count": null,
      "outputs": []
    },
    {
      "cell_type": "markdown",
      "source": [
        "9)Escribir un programa que gestione las facturas pendientes de cobro de una empresa. Las facturas se almacenarán en un diccionario donde la clave de cada factura será el número de factura y el valor el coste de la factura. El programa debe preguntar al usuario si quiere añadir una nueva factura, pagar una existente o terminar. Si desea añadir una nueva factura se preguntará por el número de factura y su coste y se añadirá al diccionario. Si se desea pagar una factura se preguntará por el número de factura y se eliminará del diccionario. Después de cada operación el programa debe mostrar por pantalla la cantidad cobrada hasta el momento y la cantidad pendiente de cobro."
      ],
      "metadata": {
        "id": "rQ-VnKDg3UGu"
      }
    },
    {
      "cell_type": "code",
      "source": [],
      "metadata": {
        "id": "Ih-7ou-Y3T_f"
      },
      "execution_count": null,
      "outputs": []
    },
    {
      "cell_type": "markdown",
      "source": [
        "10) Escribir un programa que permita gestionar la base de datos de clientes de una empresa. Los clientes se guardarán en un diccionario en el que la clave de cada cliente será su DNI, y el valor será otro diccionario con los datos del cliente (nombre, dirección, teléfono, correo, preferente), donde preferente tendrá el valor True si se trata de un cliente preferente. El programa debe preguntar al usuario por una opción del siguiente menú: (1) Añadir cliente, (2) Eliminar cliente, (3) Mostrar cliente, (4) Listar todos los clientes, (5) Listar clientes preferentes, (6) Terminar. En función de la opción elegida el programa tendrá que hacer lo siguiente:\n",
        "\n",
        "\n",
        "\n",
        "1.   Preguntar los datos del cliente, crear un diccionario con los datos y añadirlo a la base de datos.\n",
        "2.   Preguntar por el DNI del cliente y eliminar sus datos de la base de datos.\n",
        "3.   Preguntar por el DNI del cliente y mostrar sus datos.\n",
        "4.   Mostrar lista de todos los clientes de la base datos con su DNI y nombre.\n",
        "5.   Mostrar la lista de clientes preferentes de la base de datos con su DNI y nombre.\n",
        "6.   Terminar el programa."
      ],
      "metadata": {
        "id": "dPFrDhkC3Yml"
      }
    },
    {
      "cell_type": "code",
      "source": [
        "clientes = {}\n",
        "cliente = {}\n",
        "while True:\n",
        "  opcion = 0\n",
        "  opcion = int(input(\"Elija un opcion: \"))\n",
        "\n",
        "  if opcion == 1:\n",
        "    dni = int(input(\"ingrese el dni del cliente: \"))\n",
        "    if dni in clientes:\n",
        "      print(\"Cliente ya existente\")\n",
        "      break\n",
        "    clientes[dni] = cliente\n",
        "    cliente['nombre'] = input(\"Ingrese su Nombre: \")\n",
        "    cliente['direccion'] = input(\"ingrese su Dirección: \")\n",
        "    cliente['telefono'] = input(\"ingrese su Teléfono: \")\n",
        "    cliente['email'] = input(\"Ingrese su Email: \")\n",
        "    preferente = input(\"Es cliente Preferente? s/n: \").lower()\n",
        "    if preferente == 's':\n",
        "      cliente['preferente'] = True\n",
        "    else:\n",
        "      cliente['preferente'] = False\n",
        "    \n",
        "  elif opcion == 2:\n",
        "    dni = int(input(\"Ingrese el DNI del cliente a eliminar: \"))\n",
        "    for i in clientes:\n",
        "      if dni == i:\n",
        "        del clientes[dni]\n",
        "        break\n",
        "  elif opcion == 3:\n",
        "    dni = int(input(\"Ingrese el DNI del cliente: \"))\n",
        "    for i in clientes:\n",
        "      for j in cliente:\n",
        "          print(cliente[j])\n",
        "    pass\n",
        "  elif opcion == 4:\n",
        "    for key, value in clientes.items():\n",
        "      print(key,'-',  cliente['nombre'] )\n",
        "\n",
        "  elif opcion == 5:\n",
        "    for key, value in clientes.items():\n",
        "      if cliente['preferente'] == True:\n",
        "        print(key,'-',  cliente['nombre'] )\n",
        "    \n",
        "  elif opcion == 6:\n",
        "    print(\"Hasta Luego!\")\n",
        "    break\n",
        "  else: print('Error. No existe esa opcion!')\n",
        "\n",
        "  print(clientes)"
      ],
      "metadata": {
        "id": "v7t9_GBR3YN4"
      },
      "execution_count": null,
      "outputs": []
    },
    {
      "cell_type": "markdown",
      "source": [
        "Ejercicio de CODERHOUSE! con update, add, remove y discard."
      ],
      "metadata": {
        "id": "dCmF8AM9LKAI"
      }
    },
    {
      "cell_type": "code",
      "source": [
        "colores = {'Rojo', 'Blanco', 'Azul'}\n",
        "\n",
        "colores.add('Violeta')\n",
        "colores.add('Dorado')\n",
        "# ó\n",
        "#colores.update(['Violeta', 'Dorado'])\n",
        "\n",
        "print(colores)\n",
        "\n",
        "colores.discard('Celeste')\n",
        "\n",
        "colores.discard('Blanco')\n",
        "colores.discard('Dorado')\n",
        "#ó\n",
        "#colores.remove('Blanco')\n",
        "#colores.remove('Dorado')\n",
        "\n",
        "print(colores)"
      ],
      "metadata": {
        "id": "k0Zz15lYIHvH"
      },
      "execution_count": null,
      "outputs": []
    },
    {
      "cell_type": "markdown",
      "source": [
        "Ejercicio CODERHOUSE de Diccionarios\n"
      ],
      "metadata": {
        "id": "3-ZwadrkfWiL"
      }
    },
    {
      "cell_type": "code",
      "source": [
        "animales = {'elefante':''}\n",
        "print(animales)\n",
        "\n",
        "animales['perro'] = ''\n",
        "animales['tigre'] = ''\n",
        "animales['mono'] = ''\n",
        "print(animales)\n",
        "\n",
        "animales['perro'] = 'Bobby'\n",
        "animales['tigre'] = 'Pepe'\n",
        "animales['mono'] = 'Homero'\n",
        "print(animales)\n",
        "\n",
        "animales['elefante'] = 'Trompis'\n",
        "animales['delfin'] = 'Manolo'\n",
        "print(animales)\n"
      ],
      "metadata": {
        "id": "580DJfrgW-Mq"
      },
      "execution_count": null,
      "outputs": []
    }
  ]
}